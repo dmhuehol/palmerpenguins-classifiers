{
  "nbformat": 4,
  "nbformat_minor": 0,
  "metadata": {
    "colab": {
      "provenance": []
    },
    "kernelspec": {
      "name": "python3",
      "display_name": "Python 3"
    },
    "language_info": {
      "name": "python"
    }
  },
  "cells": [
    {
      "cell_type": "markdown",
      "source": [
        "# Using an artificial neural network to classify Palmer Penguins 🐧 by species\n",
        "\n",
        "[Palmer Penguins](https://allisonhorst.github.io/palmerpenguins/) is a dataset consisting of penguin measurements from the Palmer Archipelago in Antarctica. This notebook demonstrates the process to classify this data to species ([Adelie](https://www.antarctica.gov.au/about-antarctica/animals/penguins/adelie-penguin/), [Chinstrap](https://www.antarctica.gov.au/about-antarctica/animals/penguins/chinstrap-penguin/), or [Gentoo](https://www.antarctica.gov.au/about-antarctica/animals/penguins/gentoo-penguin/)) based on bill length, bill depth, flipper length, and body mass using a neural network model.\n",
        "\n",
        "[![Latest release](https://badgen.net/github/release/Naereen/Strapdown.js)](https://github.com/dmhuehol/palmerpenguins-classifiers)\n",
        "[![Open In Colab](https://colab.research.google.com/assets/colab-badge.svg)](https://colab.research.google.com/drive/1FmPDIxYamEPOYhywqZSZbtyL3cwZsxk8?usp=sharing)"
      ],
      "metadata": {
        "id": "ri_anZza46fT"
      }
    },
    {
      "cell_type": "markdown",
      "source": [
        "\n",
        "*    Example by [Daniel Hueholt](https://hueholt.earth), PhD student at Colorado State University (CSU)\n",
        "*    Borrows format from the [CSU Machine Learning Tutorial](https://zenodo.org/record/6686879)\n",
        "*    For details on Palmer Penguins and cute penguin art, see the official [Palmer Penguins page at GitHub](https://allisonhorst.github.io/palmerpenguins/) or [Horst et al. 2022](doi.org/10.32614/RJ-2022-020)\n"
      ],
      "metadata": {
        "id": "bRI-JyMW5GvP"
      }
    },
    {
      "cell_type": "code",
      "source": [
        "try:\n",
        "    import google.colab\n",
        "    IN_COLAB = True\n",
        "except:\n",
        "    IN_COLAB = False\n",
        "print('IN_COLAB = ' + str(IN_COLAB))"
      ],
      "metadata": {
        "colab": {
          "base_uri": "https://localhost:8080/"
        },
        "id": "ENfKVbvQ5F4B",
        "outputId": "73bf7671-ee2c-4ed1-881e-ac1194004e18"
      },
      "execution_count": 123,
      "outputs": [
        {
          "output_type": "stream",
          "name": "stdout",
          "text": [
            "IN_COLAB = True\n"
          ]
        }
      ]
    },
    {
      "cell_type": "code",
      "source": [
        "import matplotlib.pyplot as plt\n",
        "import numpy as np\n",
        "!pip install palmerpenguins # Dataset\n",
        "from palmerpenguins import load_penguins\n",
        "import pandas as pd # For confusion matrix\n",
        "import sklearn\n",
        "from sklearn.model_selection import train_test_split\n",
        "from sklearn.pipeline import FeatureUnion, make_pipeline\n",
        "from sklearn import metrics\n",
        "import sys\n",
        "import tensorflow as tf\n",
        "\n",
        "print(f\"python version = {sys.version}\")\n",
        "print(f\"scikit-learn version = {sklearn.__version__}\")"
      ],
      "metadata": {
        "colab": {
          "base_uri": "https://localhost:8080/"
        },
        "id": "tt9q_UH25J8E",
        "outputId": "f7f00f30-715f-4c1e-84a8-1ede136c7d4b"
      },
      "execution_count": 124,
      "outputs": [
        {
          "output_type": "stream",
          "name": "stdout",
          "text": [
            "Requirement already satisfied: palmerpenguins in /usr/local/lib/python3.10/dist-packages (0.1.4)\n",
            "Requirement already satisfied: pandas in /usr/local/lib/python3.10/dist-packages (from palmerpenguins) (1.5.3)\n",
            "Requirement already satisfied: numpy in /usr/local/lib/python3.10/dist-packages (from palmerpenguins) (1.23.5)\n",
            "Requirement already satisfied: python-dateutil>=2.8.1 in /usr/local/lib/python3.10/dist-packages (from pandas->palmerpenguins) (2.8.2)\n",
            "Requirement already satisfied: pytz>=2020.1 in /usr/local/lib/python3.10/dist-packages (from pandas->palmerpenguins) (2023.3.post1)\n",
            "Requirement already satisfied: six>=1.5 in /usr/local/lib/python3.10/dist-packages (from python-dateutil>=2.8.1->pandas->palmerpenguins) (1.16.0)\n",
            "python version = 3.10.12 (main, Jun 11 2023, 05:26:28) [GCC 11.4.0]\n",
            "scikit-learn version = 1.2.2\n"
          ]
        }
      ]
    },
    {
      "cell_type": "markdown",
      "source": [
        "# 1. Load and look at data"
      ],
      "metadata": {
        "id": "h-L5uYUY5i7X"
      }
    },
    {
      "cell_type": "code",
      "source": [
        "X,y = load_penguins(return_X_y=True, drop_na=True) #drop_na removes observations with NaN values\n",
        "print('--- FEATURES ---')\n",
        "print(X.head())\n",
        "feature_names = ['bill_length_mm', 'bill_depth_mm', 'flipper_length_mm', 'body_mass_g']\n",
        "print('--- LABELS ---')\n",
        "print(y.head())\n",
        "class_names = ['Adelie', 'Chinstrap', 'Gentoo'] # These are the penguin species\n",
        "\n",
        "y = y.replace(to_replace='Adelie', value=0)\n",
        "y = y.replace(to_replace='Chinstrap', value=1)\n",
        "y = y.replace(to_replace='Gentoo', value=2)"
      ],
      "metadata": {
        "colab": {
          "base_uri": "https://localhost:8080/"
        },
        "id": "58xzJNAc5l1O",
        "outputId": "bf6e4435-860f-4434-eba5-d1fa9cf6da0d"
      },
      "execution_count": 125,
      "outputs": [
        {
          "output_type": "stream",
          "name": "stdout",
          "text": [
            "--- FEATURES ---\n",
            "   bill_length_mm  bill_depth_mm  flipper_length_mm  body_mass_g\n",
            "0            39.1           18.7              181.0       3750.0\n",
            "1            39.5           17.4              186.0       3800.0\n",
            "2            40.3           18.0              195.0       3250.0\n",
            "4            36.7           19.3              193.0       3450.0\n",
            "5            39.3           20.6              190.0       3650.0\n",
            "--- LABELS ---\n",
            "0    Adelie\n",
            "1    Adelie\n",
            "2    Adelie\n",
            "4    Adelie\n",
            "5    Adelie\n",
            "Name: species, dtype: object\n"
          ]
        }
      ]
    },
    {
      "cell_type": "markdown",
      "source": [
        "We use the features (called `X`) to classify the data by target/label (called `y`). With this data, our targets/labels are the species of each penguin, while our features are physical measurements from each penguin."
      ],
      "metadata": {
        "id": "L-rdz_Cy5ovS"
      }
    },
    {
      "cell_type": "markdown",
      "source": [
        "We need to split the data into **training, validation, and testing datasets**. With Earth science data, we often need to carefully consider the method we use for this in order to prevent \"data leakage\" between these data splits. With penguins, this isn't a concern--so we can just use Scikit's default method to do this!"
      ],
      "metadata": {
        "id": "mTIbtjSs5rEG"
      }
    },
    {
      "cell_type": "code",
      "source": [
        "X_trainval, X_test, y_trainval, y_test = train_test_split(X, y, test_size=100,\n",
        "                                                          random_state=13) # first reserve the held-back testing data\n",
        "X_train, X_val, y_train, y_val = train_test_split(X_trainval, y_trainval, test_size=100,\n",
        "                                                       random_state=13) # then reserve the validation data (for hyperparameter tuning)\n",
        "\n",
        "# Commented lines below are to look at the split data\n",
        "# print('--- TRAINING ---')\n",
        "# print(X_train.head(), y_train.head())\n",
        "# print('--- VALIDATION ---')\n",
        "# print(X_val.head(), y_val.head())\n",
        "# print('--- HELD-BACK TESTING --- ')\n",
        "# print(X_test.head(), y_test.head())"
      ],
      "metadata": {
        "id": "pKBHvIk55yWG"
      },
      "execution_count": 126,
      "outputs": []
    },
    {
      "cell_type": "markdown",
      "source": [
        "We now have the following variables:\n",
        "\n",
        "\n",
        "*   `X_train` and `y_train`: features and labels used for training\n",
        "*   `X_val` and `y_val`: features and labels used for validation (hyperparameter tuning)\n",
        "*   `X_test` and `y_test`: features and labels held back for testing"
      ],
      "metadata": {
        "id": "wYthRIn-50RO"
      }
    },
    {
      "cell_type": "markdown",
      "source": [
        "As neural networks often perform poorly on input data that is not standardized, we rescale the features to be normally distributed. Here, we employ the StandardScaler method from scikit-learn. We could do this manually by subtracting the mean and dividing by the variance (essentially calculating the z-score)."
      ],
      "metadata": {
        "id": "AHyJE0GKK-iM"
      }
    },
    {
      "cell_type": "code",
      "source": [
        "scaler = sklearn.preprocessing.StandardScaler()\n",
        "X_train_norm = scaler.fit_transform(X_train)\n",
        "X_val_norm = scaler.fit_transform(X_val)\n",
        "X_test_norm = scaler.fit_transform(X_test)"
      ],
      "metadata": {
        "id": "KnPUt_CfJr0d"
      },
      "execution_count": 127,
      "outputs": []
    },
    {
      "cell_type": "markdown",
      "source": [
        "We can observe the impact of this scaling by plotting the histograms of the data. The penguin's mass measurements (weights in grams) are distributed very differently from the flipper and bill measurements (lengths in mm). Normalizing the data ensures that the network isn't confused by these differing values!"
      ],
      "metadata": {
        "id": "Sosu3iQHL78g"
      }
    },
    {
      "cell_type": "code",
      "source": [
        "plt.subplot(1,2,1)\n",
        "plt.hist(X_train.bill_length_mm, color='#b01983', label='bill_length_mm')\n",
        "plt.hist(X_train.bill_depth_mm, color='#b01937', label='bill_depth_mm')\n",
        "plt.hist(X_train.flipper_length_mm, color='#9219b0', label='flipper_length_mm')\n",
        "plt.hist(X_train.body_mass_g, color='#1983b0', label='body_mass_g')\n",
        "plt.legend()\n",
        "plt.title('Unprocessed')\n",
        "plt.subplot(1,2,2)\n",
        "plt.hist(X_train_norm[:,0], color='#b01983', alpha=0.7, label='bill_length_mm')\n",
        "plt.hist(X_train_norm[:,1], color='#b01937', alpha=0.7, label='bill_depth_mm')\n",
        "plt.hist(X_train_norm[:,2], color='#9219b0', alpha=0.7, label='flipper_length_mm')\n",
        "plt.hist(X_train_norm[:,3], color='#1983b0', alpha=0.7, label='body_mass_g')\n",
        "plt.title('Normalized')"
      ],
      "metadata": {
        "colab": {
          "base_uri": "https://localhost:8080/",
          "height": 469
        },
        "id": "G1QI3qFmMPUC",
        "outputId": "16fdb40f-ed9b-45fd-e0e8-24efcc1d71fa"
      },
      "execution_count": 128,
      "outputs": [
        {
          "output_type": "execute_result",
          "data": {
            "text/plain": [
              "Text(0.5, 1.0, 'Normalized')"
            ]
          },
          "metadata": {},
          "execution_count": 128
        },
        {
          "output_type": "display_data",
          "data": {
            "text/plain": [
              "<Figure size 640x480 with 2 Axes>"
            ],
            "image/png": "[encoded data removed]"
          },
          "metadata": {}
        }
      ]
    },
    {
      "cell_type": "markdown",
      "source": [
        "Additionally, we need to set up our integer labels in the format that tensorflow can understand."
      ],
      "metadata": {
        "id": "UTrqdUkjmHcZ"
      }
    },
    {
      "cell_type": "code",
      "source": [
        "y_train_cat = tf.keras.utils.to_categorical(y_train.values,3)\n",
        "y_val_cat = tf.keras.utils.to_categorical(y_val.values,3)\n",
        "y_test_cat = tf.keras.utils.to_categorical(y_test.values,3)"
      ],
      "metadata": {
        "id": "9_IpR1HzmSlW"
      },
      "execution_count": 140,
      "outputs": []
    },
    {
      "cell_type": "markdown",
      "source": [
        "Now we are ready to set up the artificial neural network!"
      ],
      "metadata": {
        "id": "szF4IwPn53Ig"
      }
    },
    {
      "cell_type": "markdown",
      "source": [
        "# 2. Set up and run the artificial neural network"
      ],
      "metadata": {
        "id": "9h981ObA55JU"
      }
    },
    {
      "cell_type": "markdown",
      "source": [
        "We define the tunable parameters (hyperparameters) that we'll use for the model. We put these values in a dictionary so they can easily be accessed and modified for future experiments. Neural networks have an enormous number of hyperparameters. Most can only be determined through trial and error--this process can often be a major portion of a research project that uses NN methods! Developing efficient ways to conduct hyperparameter searches is a very active area of computer science research."
      ],
      "metadata": {
        "id": "GlKbZktf581m"
      }
    },
    {
      "cell_type": "markdown",
      "source": [
        "\n",
        "\n",
        "*   **loss:** Function to be minimized during training. Valid options in tensorflow documentation [here](https://tensorflow.org/api_docs/python/tf/keras/losses); `CategoricalCrossentropy` is often good for multiclass classification.\n",
        "*   **metric:** Function used to evaluate performance. Valid options in tensorflow documentation [here](https://tensorflow.org/api_docs/python/tf/keras/metrics); `accuracy` often good for classification problems.\n",
        "*   **hidden_nodes:** A list giving the nodes for each hidden layer.\n",
        "*   **out_nodes:** Nodes for output layer. For classification problems, this should be equal to the number of classes (thus, for our penguins, this must be 3).\n",
        "*   **rnd_state:** Seed value set to allow reproducibility of exact results.\n",
        "*   **activations:** Dictionary setting activation functions for hidden node and output node. In classification problems, `relu` is standard for hidden nodes and `softmax` for output. [This article at Machine Learning Mastery](https://machinelearningmastery.com/choose-an-activation-function-for-deep-learning/) is useful to learn more!\n",
        "*   **num_epochs:** Number of epochs to train model.\n",
        "*   **batch_size:** Amount of samples to pass into the model before updating weights. The best batch size varies from problem to problem, but 32 is often a good starting point.\n",
        "*   **learn_rate:** Rate at which the model moves down the gradient of the loss function. Too large of a learning rate runs the risk of diverging; too small of a learning rate may become \"stuck\" in local minima.\n",
        "*   **initializer:** Method by which random weights are initialized. Valid options in tensorflow documentation [here](https://www.tensorflow.org/api_docs/python/tf/keras/initializers).\n",
        "*   **regularizer:** Methods to constrain model parameters and make overfitting less likely. May not be needed for every problem. Valid options in tensorflow documentation [here](https://www.tensorflow.org/api_docs/python/tf/keras/regularizers/).\n",
        "*   **early_stop:** Stop model training if it begins to overfit to the training data (e.g., training loss is decreasing, but validation accuracy is also decreasing). The \"patience\" option sets the number of epochs that the early stopping condition can occur before the model is ended.\n",
        "*   **verbosity**: 1/0 option to output/not output information to the console.\n",
        "*   **class_weight**: Dictionary option to weight certain classes to be treated as \"more important\" during training. Often critical to good performance when classes are very imbalanced, and less important when there are similar number of samples in each class (as for our penguins). See description [here](https://www.tensorflow.org/tutorials/structured_data/imbalanced_data).\n",
        "\n"
      ],
      "metadata": {
        "id": "HHHfXNtVdzVw"
      }
    },
    {
      "cell_type": "code",
      "source": [
        "nnd = {\n",
        "    \"loss\": tf.keras.losses.CategoricalCrossentropy(from_logits=True),\n",
        "    \"metric\": 'accuracy',\n",
        "    \"hidden_nodes\": [10,],\n",
        "    \"out_nodes\": 3,\n",
        "    \"rnd_state\": 13,\n",
        "    \"activations\": {\"hid\": 'relu',\n",
        "                    \"out\": 'softmax'},\n",
        "    \"num_epochs\": 50,\n",
        "    \"batch_size\": 32,\n",
        "    \"learn_rate\": 0.01,\n",
        "    \"initializer\": tf.keras.initializers.RandomNormal,\n",
        "    \"regularizer\": None,\n",
        "    \"early_stop\": tf.keras.callbacks.EarlyStopping(\n",
        "        monitor='val_accuracy', patience=20, verbose=1, mode='auto',\n",
        "        restore_best_weights=True),\n",
        "    \"verbosity\": 1,\n",
        "    \"class_weight\": None #\n",
        "}\n",
        "\n",
        "### Default values retained below for reference\n",
        "# nnd = {\n",
        "#     \"loss\": tf.keras.losses.CategoricalCrossentropy(from_logits=True),\n",
        "#     \"metric\": 'accuracy',\n",
        "#     \"hidden_nodes\": [10,],\n",
        "#     \"out_nodes\": 3,\n",
        "#     \"rnd_state\": 13,\n",
        "#     \"activations\": {\"hid\": 'relu',\n",
        "#                     \"out\": 'softmax'},\n",
        "#     \"num_epochs\": 50,\n",
        "#     \"batch_size\": 32,\n",
        "#     \"learn_rate\": 0.01,\n",
        "#     \"initializer\": tf.keras.initializers.RandomNormal,\n",
        "#     \"regularizer\": None,\n",
        "#     \"early_stop\": tf.keras.callbacks.EarlyStopping(\n",
        "#         monitor='val_accuracy', patience=20, verbose=1, mode='auto',\n",
        "#         restore_best_weights=True),\n",
        "#     \"verbosity\": 1,\n",
        "#     \"class_weight\": None #\n",
        "# }"
      ],
      "metadata": {
        "id": "fqP00wGr6nZl"
      },
      "execution_count": 169,
      "outputs": []
    },
    {
      "cell_type": "markdown",
      "source": [
        "We set up the NN classifier to use the hyperparameters we just specified."
      ],
      "metadata": {
        "id": "N0jePy498zry"
      }
    },
    {
      "cell_type": "code",
      "source": [
        "def compile_model(train_feat, nnd):\n",
        "  input_layer = tf.keras.Input(shape=np.shape(train_feat[0,:]))\n",
        "  for lc, nodes in enumerate(nnd[\"hidden_nodes\"]):\n",
        "    if lc == 0:\n",
        "      hid_layer = tf.keras.layers.Dense(\n",
        "          nodes, activation=nnd[\"activations\"][\"hid\"],\n",
        "          kernel_initializer=nnd[\"initializer\"](seed=nnd[\"rnd_state\"]),\n",
        "          kernel_regularizer=nnd[\"regularizer\"])(input_layer)\n",
        "    else:\n",
        "      hid_layer = tf.keras.layers.Dense(\n",
        "          nodes, activation=nnd[\"activations\"][\"hid\"],\n",
        "          kernel_initializer=nnd[\"initializer\"](seed=nnd[\"rnd_state\"]),\n",
        "          kernel_regularizer=nnd[\"regularizer\"])(hid_layer)\n",
        "  out = tf.keras.layers.Dense(\n",
        "      nnd[\"out_nodes\"], activation=nnd[\"activations\"][\"out\"],\n",
        "      kernel_initializer=nnd[\"initializer\"](seed=nnd[\"rnd_state\"]))(hid_layer)\n",
        "  model = tf.keras.models.Model(inputs=[input_layer], outputs=out)\n",
        "  optimizer = tf.keras.optimizers.Adam(learning_rate=nnd[\"learn_rate\"])\n",
        "  model.compile(\n",
        "      loss=nnd[\"loss\"], optimizer=optimizer, metrics=[nnd[\"metric\"]])\n",
        "  model.summary()\n",
        "\n",
        "  return model\n",
        "\n",
        "def fit_model(\n",
        "    model, train_feat, train_lab, val_feat, val_lab, nnd):\n",
        "  history = model.fit(train_feat, train_lab, epochs=nnd[\"num_epochs\"],\n",
        "                      verbose=nnd[\"verbosity\"], batch_size=nnd[\"batch_size\"],\n",
        "                      shuffle=True, validation_data=(val_feat, val_lab),\n",
        "                      class_weight=nnd[\"class_weight\"], callbacks=nnd[\"early_stop\"])\n",
        "  return history\n",
        "\n",
        "def train_model(train_feat, train_lab, val_feat, val_lab, nnd):\n",
        "  tf.random.set_seed(nnd[\"rnd_state\"])\n",
        "  model = compile_model(train_feat, nnd)\n",
        "  history = fit_model(\n",
        "      model, train_feat, train_lab, val_feat, val_lab, nnd)\n",
        "  return model, history.history\n"
      ],
      "metadata": {
        "id": "SRp-WAde7BoZ"
      },
      "execution_count": 170,
      "outputs": []
    },
    {
      "cell_type": "code",
      "source": [
        "nn_model, history = train_model(\n",
        "    X_train_norm, y_train_cat, X_val_norm, y_val_cat, nnd)"
      ],
      "metadata": {
        "colab": {
          "base_uri": "https://localhost:8080/"
        },
        "id": "KE46Bcu0k4cW",
        "outputId": "19f88180-8f2b-437f-b3dd-b56f57e9b3fe"
      },
      "execution_count": 171,
      "outputs": [
        {
          "output_type": "stream",
          "name": "stdout",
          "text": [
            "Model: \"model_26\"\n",
            "_________________________________________________________________\n",
            " Layer (type)                Output Shape              Param #   \n",
            "=================================================================\n",
            " input_27 (InputLayer)       [(None, 4)]               0         \n",
            "                                                                 \n",
            " dense_77 (Dense)            (None, 10)                50        \n",
            "                                                                 \n",
            " dense_78 (Dense)            (None, 3)                 33        \n",
            "                                                                 \n",
            "=================================================================\n",
            "Total params: 83 (332.00 Byte)\n",
            "Trainable params: 83 (332.00 Byte)\n",
            "Non-trainable params: 0 (0.00 Byte)\n",
            "_________________________________________________________________\n",
            "Epoch 1/50\n"
          ]
        },
        {
          "output_type": "stream",
          "name": "stderr",
          "text": [
            "/usr/local/lib/python3.10/dist-packages/keras/src/backend.py:5562: UserWarning: \"`categorical_crossentropy` received `from_logits=True`, but the `output` argument was produced by a Softmax activation and thus does not represent logits. Was this intended?\n",
            "  output, from_logits = _get_logits(\n"
          ]
        },
        {
          "output_type": "stream",
          "name": "stdout",
          "text": [
            "67/67 [==============================] - 1s 6ms/step - loss: 1.0521 - accuracy: 0.4586 - val_loss: 1.0139 - val_accuracy: 0.3800\n",
            "Epoch 2/50\n",
            "67/67 [==============================] - 0s 3ms/step - loss: 0.9208 - accuracy: 0.6692 - val_loss: 0.8739 - val_accuracy: 0.7600\n",
            "Epoch 3/50\n",
            "67/67 [==============================] - 0s 4ms/step - loss: 0.7445 - accuracy: 0.8271 - val_loss: 0.7375 - val_accuracy: 0.7600\n",
            "Epoch 4/50\n",
            "67/67 [==============================] - 0s 4ms/step - loss: 0.5836 - accuracy: 0.8271 - val_loss: 0.6129 - val_accuracy: 0.7600\n",
            "Epoch 5/50\n",
            "67/67 [==============================] - 0s 3ms/step - loss: 0.4626 - accuracy: 0.8271 - val_loss: 0.5209 - val_accuracy: 0.7600\n",
            "Epoch 6/50\n",
            "67/67 [==============================] - 0s 4ms/step - loss: 0.3873 - accuracy: 0.8271 - val_loss: 0.4598 - val_accuracy: 0.7600\n",
            "Epoch 7/50\n",
            "67/67 [==============================] - 0s 3ms/step - loss: 0.3419 - accuracy: 0.8271 - val_loss: 0.4212 - val_accuracy: 0.7600\n",
            "Epoch 8/50\n",
            "67/67 [==============================] - 0s 3ms/step - loss: 0.3120 - accuracy: 0.8271 - val_loss: 0.3914 - val_accuracy: 0.7600\n",
            "Epoch 9/50\n",
            "67/67 [==============================] - 0s 3ms/step - loss: 0.2888 - accuracy: 0.8271 - val_loss: 0.3665 - val_accuracy: 0.7600\n",
            "Epoch 10/50\n",
            "67/67 [==============================] - 0s 3ms/step - loss: 0.2705 - accuracy: 0.8271 - val_loss: 0.3442 - val_accuracy: 0.8000\n",
            "Epoch 11/50\n",
            "67/67 [==============================] - 0s 4ms/step - loss: 0.2507 - accuracy: 0.8722 - val_loss: 0.3172 - val_accuracy: 0.8500\n",
            "Epoch 12/50\n",
            "67/67 [==============================] - 0s 4ms/step - loss: 0.2333 - accuracy: 0.9248 - val_loss: 0.2914 - val_accuracy: 0.8900\n",
            "Epoch 13/50\n",
            "67/67 [==============================] - 0s 3ms/step - loss: 0.2147 - accuracy: 0.9474 - val_loss: 0.2704 - val_accuracy: 0.8900\n",
            "Epoch 14/50\n",
            "67/67 [==============================] - 0s 3ms/step - loss: 0.1959 - accuracy: 0.9624 - val_loss: 0.2460 - val_accuracy: 0.9000\n",
            "Epoch 15/50\n",
            "67/67 [==============================] - 0s 3ms/step - loss: 0.1785 - accuracy: 0.9624 - val_loss: 0.2212 - val_accuracy: 0.9200\n",
            "Epoch 16/50\n",
            "67/67 [==============================] - 0s 3ms/step - loss: 0.1618 - accuracy: 0.9624 - val_loss: 0.1986 - val_accuracy: 0.9500\n",
            "Epoch 17/50\n",
            "67/67 [==============================] - 0s 3ms/step - loss: 0.1452 - accuracy: 0.9699 - val_loss: 0.1809 - val_accuracy: 0.9600\n",
            "Epoch 18/50\n",
            "67/67 [==============================] - 0s 3ms/step - loss: 0.1304 - accuracy: 0.9699 - val_loss: 0.1614 - val_accuracy: 0.9600\n",
            "Epoch 19/50\n",
            "67/67 [==============================] - 0s 4ms/step - loss: 0.1169 - accuracy: 0.9774 - val_loss: 0.1449 - val_accuracy: 0.9600\n",
            "Epoch 20/50\n",
            "67/67 [==============================] - 0s 3ms/step - loss: 0.1052 - accuracy: 0.9774 - val_loss: 0.1321 - val_accuracy: 0.9700\n",
            "Epoch 21/50\n",
            "67/67 [==============================] - 0s 4ms/step - loss: 0.0940 - accuracy: 0.9850 - val_loss: 0.1163 - val_accuracy: 0.9800\n",
            "Epoch 22/50\n",
            "67/67 [==============================] - 0s 3ms/step - loss: 0.0854 - accuracy: 0.9850 - val_loss: 0.1054 - val_accuracy: 0.9800\n",
            "Epoch 23/50\n",
            "67/67 [==============================] - 0s 3ms/step - loss: 0.0784 - accuracy: 0.9850 - val_loss: 0.0978 - val_accuracy: 0.9800\n",
            "Epoch 24/50\n",
            "67/67 [==============================] - 0s 4ms/step - loss: 0.0707 - accuracy: 0.9850 - val_loss: 0.0888 - val_accuracy: 0.9800\n",
            "Epoch 25/50\n",
            "67/67 [==============================] - 0s 3ms/step - loss: 0.0657 - accuracy: 0.9850 - val_loss: 0.0820 - val_accuracy: 0.9900\n",
            "Epoch 26/50\n",
            "67/67 [==============================] - 0s 3ms/step - loss: 0.0604 - accuracy: 0.9850 - val_loss: 0.0776 - val_accuracy: 0.9900\n",
            "Epoch 27/50\n",
            "67/67 [==============================] - 0s 3ms/step - loss: 0.0564 - accuracy: 0.9925 - val_loss: 0.0714 - val_accuracy: 0.9900\n",
            "Epoch 28/50\n",
            "67/67 [==============================] - 0s 3ms/step - loss: 0.0530 - accuracy: 0.9925 - val_loss: 0.0685 - val_accuracy: 0.9900\n",
            "Epoch 29/50\n",
            "67/67 [==============================] - 0s 3ms/step - loss: 0.0496 - accuracy: 0.9925 - val_loss: 0.0619 - val_accuracy: 0.9900\n",
            "Epoch 30/50\n",
            "67/67 [==============================] - 0s 3ms/step - loss: 0.0463 - accuracy: 0.9925 - val_loss: 0.0588 - val_accuracy: 0.9900\n",
            "Epoch 31/50\n",
            "67/67 [==============================] - 0s 4ms/step - loss: 0.0442 - accuracy: 0.9925 - val_loss: 0.0554 - val_accuracy: 0.9900\n",
            "Epoch 32/50\n",
            "67/67 [==============================] - 0s 3ms/step - loss: 0.0419 - accuracy: 0.9925 - val_loss: 0.0528 - val_accuracy: 0.9900\n",
            "Epoch 33/50\n",
            "67/67 [==============================] - 0s 3ms/step - loss: 0.0399 - accuracy: 0.9925 - val_loss: 0.0503 - val_accuracy: 0.9900\n",
            "Epoch 34/50\n",
            "67/67 [==============================] - 0s 3ms/step - loss: 0.0380 - accuracy: 0.9925 - val_loss: 0.0488 - val_accuracy: 0.9900\n",
            "Epoch 35/50\n",
            "67/67 [==============================] - 0s 3ms/step - loss: 0.0371 - accuracy: 0.9925 - val_loss: 0.0457 - val_accuracy: 0.9900\n",
            "Epoch 36/50\n",
            "67/67 [==============================] - 0s 3ms/step - loss: 0.0347 - accuracy: 0.9925 - val_loss: 0.0433 - val_accuracy: 0.9900\n",
            "Epoch 37/50\n",
            "67/67 [==============================] - 0s 4ms/step - loss: 0.0332 - accuracy: 0.9925 - val_loss: 0.0417 - val_accuracy: 0.9900\n",
            "Epoch 38/50\n",
            "67/67 [==============================] - 0s 3ms/step - loss: 0.0317 - accuracy: 0.9925 - val_loss: 0.0395 - val_accuracy: 0.9900\n",
            "Epoch 39/50\n",
            "67/67 [==============================] - 0s 3ms/step - loss: 0.0306 - accuracy: 0.9925 - val_loss: 0.0386 - val_accuracy: 0.9900\n",
            "Epoch 40/50\n",
            "67/67 [==============================] - 0s 5ms/step - loss: 0.0295 - accuracy: 0.9925 - val_loss: 0.0362 - val_accuracy: 0.9900\n",
            "Epoch 41/50\n",
            "67/67 [==============================] - 0s 5ms/step - loss: 0.0285 - accuracy: 0.9925 - val_loss: 0.0351 - val_accuracy: 0.9900\n",
            "Epoch 42/50\n",
            "67/67 [==============================] - 0s 4ms/step - loss: 0.0275 - accuracy: 0.9925 - val_loss: 0.0335 - val_accuracy: 0.9900\n",
            "Epoch 43/50\n",
            "67/67 [==============================] - 0s 6ms/step - loss: 0.0266 - accuracy: 0.9925 - val_loss: 0.0327 - val_accuracy: 0.9900\n",
            "Epoch 44/50\n",
            "67/67 [==============================] - 0s 5ms/step - loss: 0.0257 - accuracy: 0.9925 - val_loss: 0.0329 - val_accuracy: 0.9900\n",
            "Epoch 45/50\n",
            "57/67 [========================>.....] - ETA: 0s - loss: 0.0165 - accuracy: 1.0000Restoring model weights from the end of the best epoch: 25.\n",
            "67/67 [==============================] - 0s 5ms/step - loss: 0.0249 - accuracy: 0.9925 - val_loss: 0.0316 - val_accuracy: 0.9900\n",
            "Epoch 45: early stopping\n"
          ]
        }
      ]
    },
    {
      "cell_type": "code",
      "source": [
        "y_pred_train = nn_model.predict(X_train_norm)\n",
        "y_pred_val = nn_model.predict(X_val)"
      ],
      "metadata": {
        "colab": {
          "base_uri": "https://localhost:8080/"
        },
        "id": "VqlnXQJyo4vq",
        "outputId": "d890ed60-337b-4fb2-d22d-d7ee7b7369ce"
      },
      "execution_count": 172,
      "outputs": [
        {
          "output_type": "stream",
          "name": "stdout",
          "text": [
            "5/5 [==============================] - 0s 2ms/step\n",
            "4/4 [==============================] - 0s 3ms/step\n"
          ]
        }
      ]
    },
    {
      "cell_type": "markdown",
      "source": [
        "Let's check and see how well we did on the training data using the accuracy score and a confusion matrix."
      ],
      "metadata": {
        "id": "vTtQZmwo8-UC"
      }
    },
    {
      "cell_type": "code",
      "source": [
        "from sklearn.metrics import confusion_matrix, ConfusionMatrixDisplay\n",
        "# print(y_pred_train) #Confidence in each class\n",
        "y_pclass_train = np.argmax(y_pred_train, axis=1) #Element of maximum confidence\n",
        "\n",
        "acc = metrics.accuracy_score(y_train, y_pclass_train)\n",
        "print(\"training accuracy: \", np.around(acc*100), '%')\n",
        "\n",
        "cm = confusion_matrix(y_train, y_pclass_train)\n",
        "disp = ConfusionMatrixDisplay(confusion_matrix=cm, display_labels=class_names)\n",
        "disp.plot()"
      ],
      "metadata": {
        "colab": {
          "base_uri": "https://localhost:8080/",
          "height": 484
        },
        "id": "7kgedL7O8-gm",
        "outputId": "f88d5bc2-4850-4844-e7c2-72c42df3376e"
      },
      "execution_count": 173,
      "outputs": [
        {
          "output_type": "stream",
          "name": "stdout",
          "text": [
            "training accuracy:  99.0 %\n"
          ]
        },
        {
          "output_type": "execute_result",
          "data": {
            "text/plain": [
              "<sklearn.metrics._plot.confusion_matrix.ConfusionMatrixDisplay at 0x7fb161ea3b80>"
            ]
          },
          "metadata": {},
          "execution_count": 173
        },
        {
          "output_type": "display_data",
          "data": {
            "text/plain": [
              "<Figure size 640x480 with 2 Axes>"
            ],
            "image/png": "[encoded data removed]"
          },
          "metadata": {}
        }
      ]
    },
    {
      "cell_type": "markdown",
      "source": [
        "Now let's try the validation data, to make sure our model applies to data it hasn't seen before."
      ],
      "metadata": {
        "id": "54ewW9Z292zj"
      }
    },
    {
      "cell_type": "code",
      "source": [
        "y_pred_val = nn_model.predict(X_val_norm)\n",
        "y_pclass_val = np.argmax(y_pred_val, axis=1) #Element of maximum confidence\n",
        "\n",
        "acc = metrics.accuracy_score(y_val, y_pclass_val)\n",
        "print(\"validation accuracy: \", np.around(acc*100), '%')\n",
        "cm = confusion_matrix(y_val, y_pclass_val)\n",
        "disp = ConfusionMatrixDisplay(confusion_matrix=cm, display_labels=class_names)\n",
        "disp.plot()"
      ],
      "metadata": {
        "colab": {
          "base_uri": "https://localhost:8080/",
          "height": 501
        },
        "id": "OQjjseJf90uN",
        "outputId": "c9978c6d-8b64-4300-95a8-8f7296ef5145"
      },
      "execution_count": 146,
      "outputs": [
        {
          "output_type": "stream",
          "name": "stdout",
          "text": [
            "4/4 [==============================] - 0s 3ms/step\n",
            "validation accuracy:  99.0 %\n"
          ]
        },
        {
          "output_type": "execute_result",
          "data": {
            "text/plain": [
              "<sklearn.metrics._plot.confusion_matrix.ConfusionMatrixDisplay at 0x7fb162858d90>"
            ]
          },
          "metadata": {},
          "execution_count": 146
        },
        {
          "output_type": "display_data",
          "data": {
            "text/plain": [
              "<Figure size 640x480 with 2 Axes>"
            ],
            "image/png": "[encoded data removed]"
          },
          "metadata": {}
        }
      ]
    },
    {
      "cell_type": "markdown",
      "source": [
        "Continue tuning the hyperparameters until you're happy with the validation accuracy. Since the data is linearly separable, it's very difficult to find anything better than the simple support vector machine implemented with the settings provided above!\n",
        "\n",
        "Once you are happy with your model, you can once (and only once!) apply your model on the testing data. Before we do that, it's useful to try to understand how the model makes its decisions. This helps you to check whether it's overfitting, not successfully making decisions, or is ready to roll!"
      ],
      "metadata": {
        "id": "V5gy0plDBIF8"
      }
    },
    {
      "cell_type": "markdown",
      "source": [
        "# 3. Explainability"
      ],
      "metadata": {
        "id": "uWtTB_1I-Edh"
      }
    },
    {
      "cell_type": "markdown",
      "source": [
        "Right now, we don't know why the ANN is making its predictions (i.e. it is a \"black box\"). There are many methods to explain the network's behavior--someday those will be implemented here!"
      ],
      "metadata": {
        "id": "du5x02xGZRme"
      }
    },
    {
      "cell_type": "markdown",
      "source": [
        "# 4. Run ANN classifier on testing data"
      ],
      "metadata": {
        "id": "ifDGFBY3-Npf"
      }
    },
    {
      "cell_type": "markdown",
      "source": [
        "Once you're happy with your model in its final form, run your ANN on the testing data!"
      ],
      "metadata": {
        "id": "EwQXqMnocm4S"
      }
    },
    {
      "cell_type": "code",
      "source": [
        "y_pred_test = nn_model.predict(X_test_norm)\n",
        "y_pclass_test = np.argmax(y_pred_test, axis=1) #Element of maximum confidence\n",
        "\n",
        "acc = metrics.accuracy_score(y_test, y_pclass_test)\n",
        "print(\"held-back testing accuracy: \", np.around(acc*100), '*')\n",
        "cm = confusion_matrix(y_test, y_pclass_test)\n",
        "disp = ConfusionMatrixDisplay(confusion_matrix=cm, display_labels=class_names)\n",
        "disp.plot()\n",
        "plt.grid(False)\n",
        "plt.show()"
      ],
      "metadata": {
        "colab": {
          "base_uri": "https://localhost:8080/",
          "height": 484
        },
        "id": "wS0SC2NUceE3",
        "outputId": "35539375-281e-4850-afc7-53ed75dd5679"
      },
      "execution_count": 151,
      "outputs": [
        {
          "output_type": "stream",
          "name": "stdout",
          "text": [
            "4/4 [==============================] - 0s 3ms/step\n",
            "held-back testing accuracy:  98.0 *\n"
          ]
        },
        {
          "output_type": "display_data",
          "data": {
            "text/plain": [
              "<Figure size 640x480 with 2 Axes>"
            ],
            "image/png": "[encoded data removed]"
          },
          "metadata": {}
        }
      ]
    },
    {
      "cell_type": "markdown",
      "source": [
        "🐧"
      ],
      "metadata": {
        "id": "kuNk9x0pdL83"
      }
    }
  ]
}